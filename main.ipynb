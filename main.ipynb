{
 "cells": [
  {
   "cell_type": "code",
   "execution_count": null,
   "id": "c217ba02",
   "metadata": {
    "vscode": {
     "languageId": "plaintext"
    }
   },
   "outputs": [],
   "source": [
    "import pandas as pd\n",
    "import re\n",
    "from sklearn.feature_extraction.text import TfidfVectorizer\n",
    "from sklearn.svm import LinearSVC\n",
    "from sklearn.pipeline import Pipeline\n",
    "from sklearn.model_selection import train_test_split\n",
    "from sklearn.metrics import classification_report"
   ]
  },
  {
   "cell_type": "markdown",
   "id": "f974839c",
   "metadata": {},
   "source": [
    "## 1. Load datasets"
   ]
  },
  {
   "cell_type": "code",
   "execution_count": null,
   "id": "6791d0dd",
   "metadata": {
    "vscode": {
     "languageId": "plaintext"
    }
   },
   "outputs": [],
   "source": [
    "train_df = pd.read_csv(\"/content/drive/MyDrive/Colab Notebooks/train.csv\")\n",
    "test_df = pd.read_csv(\"/content/drive/MyDrive/Colab Notebooks/test.csv\")"
   ]
  },
  {
   "cell_type": "markdown",
   "id": "3db75a87",
   "metadata": {},
   "source": [
    "## 2. Preprocessing function"
   ]
  },
  {
   "cell_type": "code",
   "execution_count": null,
   "id": "dc52a532",
   "metadata": {
    "vscode": {
     "languageId": "plaintext"
    }
   },
   "outputs": [],
   "source": [
    "def clean_tweet(text):\n",
    "    text = re.sub(r\"http\\S+\", \"\", text)        # Remove URLs\n",
    "    text = re.sub(r\"@\\w+\", \"\", text)           # Remove mentions\n",
    "    text = re.sub(r\"#\", \"\", text)              # Remove hashtag symbol\n",
    "    text = re.sub(r\"[^a-zA-Z0-9\\s]\", \"\", text) # Remove special characters\n",
    "    text = text.lower().strip()                # Lowercase\n",
    "    return text\n",
    "\n",
    "# Apply cleaning\n",
    "train_df[\"clean_tweet\"] = train_df[\"tweet\"].apply(clean_tweet)\n",
    "test_df[\"clean_tweet\"] = test_df[\"tweet\"].apply(clean_tweet)\n"
   ]
  },
  {
   "cell_type": "markdown",
   "id": "8e80923e",
   "metadata": {},
   "source": [
    "## 3. Train/validation split for evaluation"
   ]
  },
  {
   "cell_type": "code",
   "execution_count": null,
   "id": "461975db",
   "metadata": {
    "vscode": {
     "languageId": "plaintext"
    }
   },
   "outputs": [],
   "source": [
    "X_train, X_val, y_train, y_val = train_test_split(\n",
    "    train_df[\"clean_tweet\"], train_df[\"label\"], test_size=0.2, random_state=42\n",
    ")\n"
   ]
  },
  {
   "cell_type": "markdown",
   "id": "e609e632",
   "metadata": {},
   "source": [
    "## 4. Build TF-IDF + SVM pipeline"
   ]
  },
  {
   "cell_type": "code",
   "execution_count": null,
   "id": "98ab788e",
   "metadata": {
    "vscode": {
     "languageId": "plaintext"
    }
   },
   "outputs": [],
   "source": [
    "svm_pipeline = Pipeline([\n",
    "    (\"tfidf\", TfidfVectorizer(max_features=7000, ngram_range=(1,2))), # bigrams help\n",
    "    (\"svm\", LinearSVC(class_weight=\"balanced\"))  # handles imbalance\n",
    "])"
   ]
  },
  {
   "cell_type": "markdown",
   "id": "f6ed5934",
   "metadata": {},
   "source": [
    "# Train on train split and validate"
   ]
  },
  {
   "cell_type": "code",
   "execution_count": null,
   "id": "03ba6e58",
   "metadata": {
    "vscode": {
     "languageId": "plaintext"
    }
   },
   "outputs": [],
   "source": [
    "svm_pipeline.fit(X_train, y_train)\n",
    "\n",
    "val_preds = svm_pipeline.predict(X_val)\n",
    "print(\"\\nValidation Report:\\n\")\n",
    "print(classification_report(y_val, val_preds))"
   ]
  },
  {
   "cell_type": "markdown",
   "id": "10457412",
   "metadata": {},
   "source": [
    "# 5. Train on FULL data & Predict on test.csv and Create submission.csv"
   ]
  },
  {
   "cell_type": "code",
   "execution_count": null,
   "id": "e016a649",
   "metadata": {
    "vscode": {
     "languageId": "plaintext"
    }
   },
   "outputs": [],
   "source": [
    "svm_pipeline.fit(train_df[\"clean_tweet\"], train_df[\"label\"])\n",
    "test_preds = svm_pipeline.predict(test_df[\"clean_tweet\"])\n",
    "\n",
    "\n",
    "submission_df = pd.DataFrame({\n",
    "    \"id\": test_df[\"id\"],\n",
    "    \"label\": test_preds\n",
    "})\n",
    "submission_df.to_csv(\"submission_svm.csv\", index=False)\n",
    "print(\"\\n✅ submission_svm.csv created!\")"
   ]
  }
 ],
 "metadata": {
  "language_info": {
   "name": "python"
  }
 },
 "nbformat": 4,
 "nbformat_minor": 5
}
